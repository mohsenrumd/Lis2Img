{
 "cells": [
  {
   "cell_type": "code",
   "execution_count": 1,
   "id": "d8acf1bd-babe-499f-bead-1804745f4cdb",
   "metadata": {},
   "outputs": [],
   "source": [
    "import matplotlib.pyplot as plt\n",
    "import numpy as np\n",
    "from scipy.io import loadmat\n",
    "import torch\n",
    "from torch import nn\n",
    "from torch.utils.data import DataLoader, random_split\n",
    "from sklearn.pipeline import make_pipeline\n",
    "from sklearn.preprocessing import StandardScaler\n",
    "from sklearn.linear_model import LogisticRegression\n",
    "from mne.decoding import GeneralizingEstimator, LinearModel, SlidingEstimator\n",
    "import matplotlib.pyplot as plt\n",
    "from sklearn.model_selection import StratifiedKFold\n",
    "from sklearn.metrics import roc_auc_score\n",
    "from tqdm.notebook import tqdm_notebook\n",
    "from eelbrain import *"
   ]
  },
  {
   "cell_type": "code",
   "execution_count": 2,
   "id": "9055d3f3-1743-45e5-b265-41853397ce11",
   "metadata": {},
   "outputs": [
    {
     "name": "stdout",
     "output_type": "stream",
     "text": [
      "Prepare EEG dataset. May take some time\n"
     ]
    },
    {
     "data": {
      "application/vnd.jupyter.widget-view+json": {
       "model_id": "af47d9a969e748fa9abc17c57955d7e7",
       "version_major": 2,
       "version_minor": 0
      },
      "text/plain": [
       "loading data:   0%|          | 0/21 [00:00<?, ?it/s]"
      ]
     },
     "metadata": {},
     "output_type": "display_data"
    },
    {
     "name": "stdout",
     "output_type": "stream",
     "text": [
      "##### Done! ######\n"
     ]
    }
   ],
   "source": [
    "#load the dataset\n",
    "print('Prepare EEG dataset. May take some time')\n",
    "eeg = []\n",
    "for subj in tqdm_notebook(range(21), desc='loading data'):\n",
    "    tmp = []\n",
    "    dataSub = loadmat(f\"datasetCND_musicImagery/musicImagery/dataCND/dataSub{subj+1}.mat\")\n",
    "    for n in range(88):\n",
    "        tmp.append(dataSub['eeg']['data'][0,0][0,n].T)\n",
    "    eeg.append(np.asarray(tmp))\n",
    "eeg = np.asarray(eeg)\n",
    "met = loadmat('datasetCND_musicImagery/musicImagery/dataCND/metronome.mat')\n",
    "met = met['met']\n",
    "idx_met = np.where(met[:,0] != 0)[0]\n",
    "for imet in idx_met:\n",
    "    eeg[:,:,:,imet:imet+34] = 0\n",
    "a_ma = np.ma.masked_equal(eeg,0)\n",
    "eeg = np.array([i.compressed() for i in a_ma]).reshape(21,88,64,1803 - 34*len(idx_met))\n",
    "\n",
    "\n",
    "scores = np.zeros((eeg.shape[0],eeg.shape[3],eeg.shape[3]))\n",
    "\n",
    "chorals = np.asarray([i//11 for i in range(44)])\n",
    "classes = set(chorals)\n",
    "confusion_pred = np.zeros((eeg.shape[0], len(set(chorals)), len(classes)))\n",
    "confusion_img = np.zeros((eeg.shape[0], len(set(chorals)), len(classes)))\n",
    "confusion_lis = np.zeros((eeg.shape[0], len(set(chorals)), len(classes)))\n",
    "\n",
    "[a, _] = random_split(range(44), [44, 0], generator=torch.Generator().manual_seed(42))\n",
    "idx = a.indices\n",
    "\n",
    "print('##### Done! ######')"
   ]
  },
  {
   "cell_type": "code",
   "execution_count": 3,
   "id": "9a2e1d62-4a59-472e-b34e-1cb17203acf1",
   "metadata": {},
   "outputs": [
    {
     "data": {
      "application/vnd.jupyter.widget-view+json": {
       "model_id": "6d7e96b8deb0448a94fa75d196bd6ab8",
       "version_major": 2,
       "version_minor": 0
      },
      "text/plain": [
       "Classify EEG signals for all Subjects:   0%|          | 0/21 [00:00<?, ?it/s]"
      ]
     },
     "metadata": {},
     "output_type": "display_data"
    }
   ],
   "source": [
    "acc_pred = np.zeros((eeg.shape[0]))\n",
    "acc_img = np.zeros((eeg.shape[0],))\n",
    "acc_lis = np.zeros((eeg.shape[0],))\n",
    "for sbj in tqdm_notebook(range(21), desc='Classify EEG signals for all Subjects'):\n",
    "    data_pred =  load.unpickle(f'../Pred_img/sbj{sbj}_Pred.pkl')\n",
    "    data_img = eeg[sbj,-44:,:,:1394]\n",
    "    data_lis = eeg[sbj,:44,:,:1394]\n",
    "\n",
    "\n",
    "    clf = make_pipeline(StandardScaler(),  # z-score normalization\n",
    "                    LinearModel(LogisticRegression(penalty = 'l2', C=1, \n",
    "                                solver = 'liblinear')))\n",
    "    decoder = SlidingEstimator(clf,scoring='accuracy',n_jobs=-1,verbose=False)\n",
    "    cv = StratifiedKFold(n_splits=5, random_state=0, shuffle=True)\n",
    "    # Compute confusion matrix for each cross-validation fold\n",
    "    X = data_pred\n",
    "    y = chorals[idx]\n",
    "    y_pred = np.zeros((len(y), data_pred.shape[2],len(classes)))\n",
    "    for train, test_t in cv.split(X, y):\n",
    "        # Fit\n",
    "        decoder.fit(X[train], y[train])\n",
    "        # Probabilistic prediction\n",
    "        y_pred[test_t] = decoder.predict_proba(X[test_t])\n",
    "    tmp = y_pred.mean(axis = 1)\n",
    "    acc_pred[sbj] = sum(tmp.argmax(1) == y)/44\n",
    "    for ii, train_class in enumerate(classes):\n",
    "        for jj in range(ii, len(classes)):\n",
    "            confusion_pred[sbj, ii, jj] = roc_auc_score(y == train_class,tmp[:, jj])\n",
    "            confusion_pred[sbj, jj, ii] = confusion_pred[sbj, ii, jj]\n",
    "\n",
    "\n",
    "    clf = make_pipeline(StandardScaler(),  # z-score normalization\n",
    "                    LinearModel(LogisticRegression(penalty = 'l2', C=1, \n",
    "                                solver = 'liblinear')))\n",
    "    decoder = SlidingEstimator(clf,scoring='accuracy',n_jobs=-1,verbose=False)  \n",
    "    X = data_img\n",
    "    y = chorals\n",
    "    y_img = np.zeros((len(y), data_pred.shape[2],len(classes)))\n",
    "    for train, test_t in cv.split(X, y):\n",
    "        # Fit\n",
    "        decoder.fit(X[train], y[train])\n",
    "        # Probabilistic prediction\n",
    "        y_img[test_t] = decoder.predict_proba(X[test_t])\n",
    "    tmp = y_img.mean(axis = 1)\n",
    "    acc_img[sbj] = sum(tmp.argmax(1) == y)/44\n",
    "    for ii, train_class in enumerate(classes):\n",
    "        for jj in range(ii, len(classes)):\n",
    "            confusion_img[sbj, ii, jj] = roc_auc_score(y == train_class,tmp[:, jj])\n",
    "            confusion_img[sbj, jj, ii] = confusion_img[sbj, ii, jj]\n",
    "\n",
    "\n",
    "    clf = make_pipeline(StandardScaler(),  # z-score normalization\n",
    "                    LinearModel(LogisticRegression(penalty = 'l2', C=1, \n",
    "                                solver = 'liblinear')))\n",
    "    decoder = SlidingEstimator(clf,scoring='accuracy',n_jobs=-1,verbose=False)  \n",
    "    X = data_lis\n",
    "    y = chorals\n",
    "    y_lis = np.zeros((len(y), data_pred.shape[2],len(classes)))\n",
    "    for train, test_t in cv.split(X, y):\n",
    "        # Fit\n",
    "        decoder.fit(X[train], y[train])\n",
    "        # Probabilistic prediction \n",
    "        y_lis[test_t] = decoder.predict_proba(X[test_t])\n",
    "    tmp = y_lis.mean(axis = 1)\n",
    "    acc_lis[sbj] = sum(tmp.argmax(1) == y)/44\n",
    "    for ii, train_class in enumerate(classes):\n",
    "        for jj in range(ii, len(classes)):\n",
    "            confusion_lis[sbj, ii, jj] = roc_auc_score(y == train_class,tmp[:, jj])\n",
    "            confusion_lis[sbj, jj, ii] = confusion_lis[sbj, ii, jj]"
   ]
  },
  {
   "cell_type": "code",
   "execution_count": 4,
   "id": "1ed40fbd-082b-434d-94ef-d83a1b6c4429",
   "metadata": {},
   "outputs": [],
   "source": [
    "## Grand Average, Confusion Matrix\n",
    "CM_pred = confusion_pred.mean(0)\n",
    "CM_img = confusion_img.mean(0)\n",
    "CM_lis = confusion_lis.mean(0)"
   ]
  },
  {
   "cell_type": "code",
   "execution_count": 5,
   "id": "7d7b2776-cdfe-4b9f-9a7f-1e8c623d67e2",
   "metadata": {},
   "outputs": [
    {
     "data": {
      "image/png": "[encoded data removed]",
      "text/plain": [
       "<Figure size 432x288 with 2 Axes>"
      ]
     },
     "metadata": {
      "needs_background": "light"
     },
     "output_type": "display_data"
    }
   ],
   "source": [
    "labels = [f'Chorale {i}' for i in range(1,5)]\n",
    "\n",
    "fig, ax = plt.subplots(1)\n",
    "im = ax.matshow(CM_pred, cmap='RdBu_r', clim=[0.1, .9])\n",
    "ax.set_yticks(range(len(classes)))\n",
    "ax.set_yticklabels(labels)\n",
    "ax.set_xticks(range(len(classes)))\n",
    "ax.set_xticklabels(labels, rotation=0, ha='center')\n",
    "ax.set_title(f'Decoing Performance for predicted Imagery. Accuracy = {round(acc_pred.mean(),2)}')\n",
    "clt = plt.colorbar(im)\n",
    "clt.set_label('AUC')\n",
    "plt.tight_layout()\n",
    "# plt.savefig('../Figures/CM_trainLis_testImg.pdf', bbox_inches='tight')\n",
    "plt.show()"
   ]
  },
  {
   "cell_type": "code",
   "execution_count": 6,
   "id": "247b1ab5-a49f-4a9f-8536-8071e9ff7655",
   "metadata": {},
   "outputs": [
    {
     "data": {
      "image/png": "[encoded data removed]",
      "text/plain": [
       "<Figure size 432x288 with 2 Axes>"
      ]
     },
     "metadata": {
      "needs_background": "light"
     },
     "output_type": "display_data"
    }
   ],
   "source": [
    "fig, ax = plt.subplots(1)\n",
    "im = ax.matshow(CM_img, cmap='RdBu_r', clim=[0.1, .9])\n",
    "ax.set_yticks(range(len(classes)))\n",
    "ax.set_yticklabels(labels)\n",
    "ax.set_xticks(range(len(classes)))\n",
    "ax.set_xticklabels(labels, rotation=0, ha='center')\n",
    "ax.set_title(f'Decoing Performance for TRUE Imagery. Accuracy = {round(acc_img.mean(),2)}')\n",
    "clt = plt.colorbar(im)\n",
    "clt.set_label('AUC')\n",
    "plt.tight_layout()\n",
    "# plt.savefig('../Figures/CM_trainPred_testImg.pdf', bbox_inches='tight')\n",
    "plt.show()"
   ]
  },
  {
   "cell_type": "code",
   "execution_count": 8,
   "id": "59ff77c9-8a77-4e1f-bbde-89521785d82a",
   "metadata": {},
   "outputs": [
    {
     "data": {
      "image/png": "[encoded data removed]",
      "text/plain": [
       "<Figure size 432x288 with 2 Axes>"
      ]
     },
     "metadata": {
      "needs_background": "light"
     },
     "output_type": "display_data"
    }
   ],
   "source": [
    "fig, ax = plt.subplots(1)\n",
    "im = ax.matshow(CM_lis, cmap='RdBu_r', clim=[0.1, .9])\n",
    "ax.set_yticks(range(len(classes)))\n",
    "ax.set_yticklabels(labels)\n",
    "ax.set_xticks(range(len(classes)))\n",
    "ax.set_xticklabels(labels, rotation=0, ha='center')\n",
    "ax.set_title(f'Decoing Performance for Perceived Music. Accuracy = {round(acc_lis.mean(),2)}')\n",
    "clt = plt.colorbar(im)\n",
    "clt.set_label('AUC')\n",
    "plt.tight_layout()\n",
    "# plt.savefig('../Figures/CM_trainPred_testImg.pdf', bbox_inches='tight')\n",
    "plt.show()"
   ]
  }
 ],
 "metadata": {
  "kernelspec": {
   "display_name": "Python 3 (ipykernel)",
   "language": "python",
   "name": "python3"
  },
  "language_info": {
   "codemirror_mode": {
    "name": "ipython",
    "version": 3
   },
   "file_extension": ".py",
   "mimetype": "text/x-python",
   "name": "python",
   "nbconvert_exporter": "python",
   "pygments_lexer": "ipython3",
   "version": "3.8.12"
  }
 },
 "nbformat": 4,
 "nbformat_minor": 5
}
