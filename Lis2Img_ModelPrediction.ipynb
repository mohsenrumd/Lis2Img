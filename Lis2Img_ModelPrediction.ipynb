{
 "cells": [
  {
   "cell_type": "code",
   "execution_count": 1,
   "id": "a44b894f-d799-4f32-b90b-253fc9f122a9",
   "metadata": {},
   "outputs": [],
   "source": [
    "import matplotlib.pyplot as plt\n",
    "import numpy as np\n",
    "from scipy.io import loadmat\n",
    "import torch\n",
    "from torch import nn\n",
    "from torch.utils.data import DataLoader, random_split\n",
    "import matplotlib.pyplot as plt\n",
    "from tqdm.notebook import tqdm_notebook\n",
    "from eelbrain import *"
   ]
  },
  {
   "cell_type": "code",
   "execution_count": 2,
   "id": "8fb4f90c-69e0-4538-9d3e-6c70bad6d7d6",
   "metadata": {},
   "outputs": [
    {
     "name": "stdout",
     "output_type": "stream",
     "text": [
      "load EEG dataset. May take some time\n",
      "Done!\n"
     ]
    }
   ],
   "source": [
    "#load the dataset\n",
    "print('load EEG dataset. May take some time')\n",
    "data = []\n",
    "scores = np.zeros((21,1394,1394))\n",
    "for subj in range(21):\n",
    "    tmp = []\n",
    "    dataSub = loadmat(f\"datasetCND_musicImagery/musicImagery/dataCND/dataSub{subj+1}.mat\")\n",
    "    for n in range(88):\n",
    "        tmp.append(dataSub['eeg']['data'][0,0][0,n].T)\n",
    "    data.append(np.asarray(tmp))\n",
    "    \n",
    "data = np.asarray(data)\n",
    "\n",
    "\n",
    "chorals = np.asarray([i//11 for i in range(44)])\n",
    "confusion = np.zeros((21, len(set(chorals)), len(set(chorals))))\n",
    "met = loadmat('datasetCND_musicImagery/musicImagery/dataCND/metronome.mat')\n",
    "met = met['met']\n",
    "idx_met = np.where(met[:,0] != 0)[0]\n",
    "\n",
    "for imet in idx_met:\n",
    "    data[:,:,:,imet:imet+34] = 0\n",
    "\n",
    "a_ma = np.ma.masked_equal(data,0)\n",
    "data = np.array([i.compressed() for i in a_ma]).reshape(21,88,64,1803 - 34*len(idx_met))\n",
    "print('Done!')"
   ]
  },
  {
   "cell_type": "code",
   "execution_count": 3,
   "id": "30a74d4e-14a7-4e99-afd6-83b3c4640902",
   "metadata": {},
   "outputs": [
    {
     "name": "stdout",
     "output_type": "stream",
     "text": [
      "Using cpu device\n",
      "Subject test: 1\n",
      "[[Pre-training autoencoder]]\n"
     ]
    },
    {
     "data": {
      "application/vnd.jupyter.widget-view+json": {
       "model_id": "9c9e34719d55447e857fcf88afd254f0",
       "version_major": 2,
       "version_minor": 0
      },
      "text/plain": [
       "30 Epochs:   0%|          | 0/30 [00:00<?, ?it/s]"
      ]
     },
     "metadata": {},
     "output_type": "display_data"
    },
    {
     "name": "stdout",
     "output_type": "stream",
     "text": [
      "Test:\n",
      "\tAvg loss: 41469.97953719109\n",
      "\tAvg R value: 0.7439300963337613\n",
      "\n",
      "[[Fix decoder weights]]\n"
     ]
    },
    {
     "data": {
      "application/vnd.jupyter.widget-view+json": {
       "model_id": "32d8cb147acc426a83b0571a64bda92a",
       "version_major": 2,
       "version_minor": 0
      },
      "text/plain": [
       "30 Epochs:   0%|          | 0/30 [00:00<?, ?it/s]"
      ]
     },
     "metadata": {},
     "output_type": "display_data"
    },
    {
     "name": "stdout",
     "output_type": "stream",
     "text": [
      "Test the network on Subject: 1\n",
      "Test the network on CONTROL Subject: 1\n",
      "Subject test: 2\n",
      "[[Pre-training autoencoder]]\n"
     ]
    },
    {
     "data": {
      "application/vnd.jupyter.widget-view+json": {
       "model_id": "c8f9084520dd495a826e82a088bc658a",
       "version_major": 2,
       "version_minor": 0
      },
      "text/plain": [
       "30 Epochs:   0%|          | 0/30 [00:00<?, ?it/s]"
      ]
     },
     "metadata": {},
     "output_type": "display_data"
    },
    {
     "name": "stdout",
     "output_type": "stream",
     "text": [
      "Test:\n",
      "\tAvg loss: 43814.55361959825\n",
      "\tAvg R value: 0.7364953628451008\n",
      "\n",
      "[[Fix decoder weights]]\n"
     ]
    },
    {
     "data": {
      "application/vnd.jupyter.widget-view+json": {
       "model_id": "8e896e2c9c5c4204ba4e314989f92527",
       "version_major": 2,
       "version_minor": 0
      },
      "text/plain": [
       "30 Epochs:   0%|          | 0/30 [00:00<?, ?it/s]"
      ]
     },
     "metadata": {},
     "output_type": "display_data"
    },
    {
     "name": "stdout",
     "output_type": "stream",
     "text": [
      "Test the network on Subject: 2\n",
      "Test the network on CONTROL Subject: 2\n",
      "Subject test: 3\n",
      "[[Pre-training autoencoder]]\n"
     ]
    },
    {
     "data": {
      "application/vnd.jupyter.widget-view+json": {
       "model_id": "e4ccdd66d04e4b79b5c41c83ecdbf3f6",
       "version_major": 2,
       "version_minor": 0
      },
      "text/plain": [
       "30 Epochs:   0%|          | 0/30 [00:00<?, ?it/s]"
      ]
     },
     "metadata": {},
     "output_type": "display_data"
    },
    {
     "name": "stdout",
     "output_type": "stream",
     "text": [
      "Test:\n",
      "\tAvg loss: 39830.728848078565\n",
      "\tAvg R value: 0.7465195507019996\n",
      "\n",
      "[[Fix decoder weights]]\n"
     ]
    },
    {
     "data": {
      "application/vnd.jupyter.widget-view+json": {
       "model_id": "28fed4371dd94bd294b7bb99ce245d26",
       "version_major": 2,
       "version_minor": 0
      },
      "text/plain": [
       "30 Epochs:   0%|          | 0/30 [00:00<?, ?it/s]"
      ]
     },
     "metadata": {},
     "output_type": "display_data"
    },
    {
     "name": "stdout",
     "output_type": "stream",
     "text": [
      "Test the network on Subject: 3\n",
      "Test the network on CONTROL Subject: 3\n",
      "Subject test: 4\n",
      "[[Pre-training autoencoder]]\n"
     ]
    },
    {
     "data": {
      "application/vnd.jupyter.widget-view+json": {
       "model_id": "59bbfbc1e97b470d942f9b56055eff04",
       "version_major": 2,
       "version_minor": 0
      },
      "text/plain": [
       "30 Epochs:   0%|          | 0/30 [00:00<?, ?it/s]"
      ]
     },
     "metadata": {},
     "output_type": "display_data"
    },
    {
     "name": "stdout",
     "output_type": "stream",
     "text": [
      "Test:\n",
      "\tAvg loss: 40898.89433002631\n",
      "\tAvg R value: 0.752095197334211\n",
      "\n",
      "[[Fix decoder weights]]\n"
     ]
    },
    {
     "data": {
      "application/vnd.jupyter.widget-view+json": {
       "model_id": "839370de174b4013805e39091704a8fc",
       "version_major": 2,
       "version_minor": 0
      },
      "text/plain": [
       "30 Epochs:   0%|          | 0/30 [00:00<?, ?it/s]"
      ]
     },
     "metadata": {},
     "output_type": "display_data"
    },
    {
     "name": "stdout",
     "output_type": "stream",
     "text": [
      "Test the network on Subject: 4\n",
      "Test the network on CONTROL Subject: 4\n",
      "Subject test: 5\n",
      "[[Pre-training autoencoder]]\n"
     ]
    },
    {
     "data": {
      "application/vnd.jupyter.widget-view+json": {
       "model_id": "9cfb01619f6e4a25a962d9c23383cacd",
       "version_major": 2,
       "version_minor": 0
      },
      "text/plain": [
       "30 Epochs:   0%|          | 0/30 [00:00<?, ?it/s]"
      ]
     },
     "metadata": {},
     "output_type": "display_data"
    },
    {
     "name": "stdout",
     "output_type": "stream",
     "text": [
      "Test:\n",
      "\tAvg loss: 39174.38265059169\n",
      "\tAvg R value: 0.7563535844573579\n",
      "\n",
      "[[Fix decoder weights]]\n"
     ]
    },
    {
     "data": {
      "application/vnd.jupyter.widget-view+json": {
       "model_id": "9b18e5677db042f290c7d36b57b73fd9",
       "version_major": 2,
       "version_minor": 0
      },
      "text/plain": [
       "30 Epochs:   0%|          | 0/30 [00:00<?, ?it/s]"
      ]
     },
     "metadata": {},
     "output_type": "display_data"
    },
    {
     "name": "stdout",
     "output_type": "stream",
     "text": [
      "Test the network on Subject: 5\n",
      "Test the network on CONTROL Subject: 5\n",
      "Subject test: 6\n",
      "[[Pre-training autoencoder]]\n"
     ]
    },
    {
     "data": {
      "application/vnd.jupyter.widget-view+json": {
       "model_id": "047999d3ab1547bc8563e611511e9228",
       "version_major": 2,
       "version_minor": 0
      },
      "text/plain": [
       "30 Epochs:   0%|          | 0/30 [00:00<?, ?it/s]"
      ]
     },
     "metadata": {},
     "output_type": "display_data"
    },
    {
     "name": "stdout",
     "output_type": "stream",
     "text": [
      "Test:\n",
      "\tAvg loss: 39951.193138442264\n",
      "\tAvg R value: 0.7343072063969759\n",
      "\n",
      "[[Fix decoder weights]]\n"
     ]
    },
    {
     "data": {
      "application/vnd.jupyter.widget-view+json": {
       "model_id": "5af016fc7cc54454bb7f31ef896c9931",
       "version_major": 2,
       "version_minor": 0
      },
      "text/plain": [
       "30 Epochs:   0%|          | 0/30 [00:00<?, ?it/s]"
      ]
     },
     "metadata": {},
     "output_type": "display_data"
    },
    {
     "name": "stdout",
     "output_type": "stream",
     "text": [
      "Test the network on Subject: 6\n",
      "Test the network on CONTROL Subject: 6\n",
      "Subject test: 7\n",
      "[[Pre-training autoencoder]]\n"
     ]
    },
    {
     "data": {
      "application/vnd.jupyter.widget-view+json": {
       "model_id": "e1fe95d28c25455eb7064a62f06f60d4",
       "version_major": 2,
       "version_minor": 0
      },
      "text/plain": [
       "30 Epochs:   0%|          | 0/30 [00:00<?, ?it/s]"
      ]
     },
     "metadata": {},
     "output_type": "display_data"
    },
    {
     "name": "stdout",
     "output_type": "stream",
     "text": [
      "Test:\n",
      "\tAvg loss: 37600.4842085862\n",
      "\tAvg R value: 0.7409656708028081\n",
      "\n",
      "[[Fix decoder weights]]\n"
     ]
    },
    {
     "data": {
      "application/vnd.jupyter.widget-view+json": {
       "model_id": "1b082c751a2743399a53ca399a79768b",
       "version_major": 2,
       "version_minor": 0
      },
      "text/plain": [
       "30 Epochs:   0%|          | 0/30 [00:00<?, ?it/s]"
      ]
     },
     "metadata": {},
     "output_type": "display_data"
    },
    {
     "name": "stdout",
     "output_type": "stream",
     "text": [
      "Test the network on Subject: 7\n",
      "Test the network on CONTROL Subject: 7\n",
      "Subject test: 8\n",
      "[[Pre-training autoencoder]]\n"
     ]
    },
    {
     "data": {
      "application/vnd.jupyter.widget-view+json": {
       "model_id": "eb2a96caf17d4bfb9ac5e27df91f310f",
       "version_major": 2,
       "version_minor": 0
      },
      "text/plain": [
       "30 Epochs:   0%|          | 0/30 [00:00<?, ?it/s]"
      ]
     },
     "metadata": {},
     "output_type": "display_data"
    },
    {
     "name": "stdout",
     "output_type": "stream",
     "text": [
      "Test:\n",
      "\tAvg loss: 39358.53961474903\n",
      "\tAvg R value: 0.7288200122320398\n",
      "\n",
      "[[Fix decoder weights]]\n"
     ]
    },
    {
     "data": {
      "application/vnd.jupyter.widget-view+json": {
       "model_id": "3e47c06b155d421c93dcac06e51a8701",
       "version_major": 2,
       "version_minor": 0
      },
      "text/plain": [
       "30 Epochs:   0%|          | 0/30 [00:00<?, ?it/s]"
      ]
     },
     "metadata": {},
     "output_type": "display_data"
    },
    {
     "name": "stdout",
     "output_type": "stream",
     "text": [
      "Test the network on Subject: 8\n",
      "Test the network on CONTROL Subject: 8\n",
      "Subject test: 9\n",
      "[[Pre-training autoencoder]]\n"
     ]
    },
    {
     "data": {
      "application/vnd.jupyter.widget-view+json": {
       "model_id": "534ab9f7f80d465e8a2ea7319c0d4f81",
       "version_major": 2,
       "version_minor": 0
      },
      "text/plain": [
       "30 Epochs:   0%|          | 0/30 [00:00<?, ?it/s]"
      ]
     },
     "metadata": {},
     "output_type": "display_data"
    },
    {
     "name": "stdout",
     "output_type": "stream",
     "text": [
      "Test:\n",
      "\tAvg loss: 36891.90803968721\n",
      "\tAvg R value: 0.7423812280893431\n",
      "\n",
      "[[Fix decoder weights]]\n"
     ]
    },
    {
     "data": {
      "application/vnd.jupyter.widget-view+json": {
       "model_id": "0b59bd3a5e204320993267291751168d",
       "version_major": 2,
       "version_minor": 0
      },
      "text/plain": [
       "30 Epochs:   0%|          | 0/30 [00:00<?, ?it/s]"
      ]
     },
     "metadata": {},
     "output_type": "display_data"
    },
    {
     "name": "stdout",
     "output_type": "stream",
     "text": [
      "Test the network on Subject: 9\n",
      "Test the network on CONTROL Subject: 9\n",
      "Subject test: 10\n",
      "[[Pre-training autoencoder]]\n"
     ]
    },
    {
     "data": {
      "application/vnd.jupyter.widget-view+json": {
       "model_id": "7be0eb3a66114af098ca9dda12d629c9",
       "version_major": 2,
       "version_minor": 0
      },
      "text/plain": [
       "30 Epochs:   0%|          | 0/30 [00:00<?, ?it/s]"
      ]
     },
     "metadata": {},
     "output_type": "display_data"
    },
    {
     "name": "stdout",
     "output_type": "stream",
     "text": [
      "Test:\n",
      "\tAvg loss: 37972.60644746507\n",
      "\tAvg R value: 0.7506942861007533\n",
      "\n",
      "[[Fix decoder weights]]\n"
     ]
    },
    {
     "data": {
      "application/vnd.jupyter.widget-view+json": {
       "model_id": "d6a2cb064e654cb29c8e06c7684bfef9",
       "version_major": 2,
       "version_minor": 0
      },
      "text/plain": [
       "30 Epochs:   0%|          | 0/30 [00:00<?, ?it/s]"
      ]
     },
     "metadata": {},
     "output_type": "display_data"
    },
    {
     "name": "stdout",
     "output_type": "stream",
     "text": [
      "Test the network on Subject: 10\n",
      "Test the network on CONTROL Subject: 10\n",
      "Subject test: 11\n",
      "[[Pre-training autoencoder]]\n"
     ]
    },
    {
     "data": {
      "application/vnd.jupyter.widget-view+json": {
       "model_id": "d208c18da0b1408085fc226dab6c44e1",
       "version_major": 2,
       "version_minor": 0
      },
      "text/plain": [
       "30 Epochs:   0%|          | 0/30 [00:00<?, ?it/s]"
      ]
     },
     "metadata": {},
     "output_type": "display_data"
    },
    {
     "name": "stdout",
     "output_type": "stream",
     "text": [
      "Test:\n",
      "\tAvg loss: 38855.61339621678\n",
      "\tAvg R value: 0.7328903159953414\n",
      "\n",
      "[[Fix decoder weights]]\n"
     ]
    },
    {
     "data": {
      "application/vnd.jupyter.widget-view+json": {
       "model_id": "3c15dd2049b3412bb844c10b4c162260",
       "version_major": 2,
       "version_minor": 0
      },
      "text/plain": [
       "30 Epochs:   0%|          | 0/30 [00:00<?, ?it/s]"
      ]
     },
     "metadata": {},
     "output_type": "display_data"
    },
    {
     "name": "stdout",
     "output_type": "stream",
     "text": [
      "Test the network on Subject: 11\n",
      "Test the network on CONTROL Subject: 11\n",
      "Subject test: 12\n",
      "[[Pre-training autoencoder]]\n"
     ]
    },
    {
     "data": {
      "application/vnd.jupyter.widget-view+json": {
       "model_id": "3f3562f4cf1a4a3bb1b9bbd65a7c3158",
       "version_major": 2,
       "version_minor": 0
      },
      "text/plain": [
       "30 Epochs:   0%|          | 0/30 [00:00<?, ?it/s]"
      ]
     },
     "metadata": {},
     "output_type": "display_data"
    },
    {
     "name": "stdout",
     "output_type": "stream",
     "text": [
      "Test:\n",
      "\tAvg loss: 38465.39642866742\n",
      "\tAvg R value: 0.7463026557150254\n",
      "\n",
      "[[Fix decoder weights]]\n"
     ]
    },
    {
     "data": {
      "application/vnd.jupyter.widget-view+json": {
       "model_id": "08ac02f605bb48a0bf79968e7f2336bd",
       "version_major": 2,
       "version_minor": 0
      },
      "text/plain": [
       "30 Epochs:   0%|          | 0/30 [00:00<?, ?it/s]"
      ]
     },
     "metadata": {},
     "output_type": "display_data"
    },
    {
     "name": "stdout",
     "output_type": "stream",
     "text": [
      "Test the network on Subject: 12\n",
      "Test the network on CONTROL Subject: 12\n",
      "Subject test: 13\n",
      "[[Pre-training autoencoder]]\n"
     ]
    },
    {
     "data": {
      "application/vnd.jupyter.widget-view+json": {
       "model_id": "2343cad87496402b9f21e32db5bffe5d",
       "version_major": 2,
       "version_minor": 0
      },
      "text/plain": [
       "30 Epochs:   0%|          | 0/30 [00:00<?, ?it/s]"
      ]
     },
     "metadata": {},
     "output_type": "display_data"
    },
    {
     "name": "stdout",
     "output_type": "stream",
     "text": [
      "Test:\n",
      "\tAvg loss: 36357.63375120277\n",
      "\tAvg R value: 0.7390872892566309\n",
      "\n",
      "[[Fix decoder weights]]\n"
     ]
    },
    {
     "data": {
      "application/vnd.jupyter.widget-view+json": {
       "model_id": "a3e7d7b4a65544bca1e4700430a97737",
       "version_major": 2,
       "version_minor": 0
      },
      "text/plain": [
       "30 Epochs:   0%|          | 0/30 [00:00<?, ?it/s]"
      ]
     },
     "metadata": {},
     "output_type": "display_data"
    },
    {
     "name": "stdout",
     "output_type": "stream",
     "text": [
      "Test the network on Subject: 13\n",
      "Test the network on CONTROL Subject: 13\n",
      "Subject test: 14\n",
      "[[Pre-training autoencoder]]\n"
     ]
    },
    {
     "data": {
      "application/vnd.jupyter.widget-view+json": {
       "model_id": "950b2fc6731947e2afd52a290e88b290",
       "version_major": 2,
       "version_minor": 0
      },
      "text/plain": [
       "30 Epochs:   0%|          | 0/30 [00:00<?, ?it/s]"
      ]
     },
     "metadata": {},
     "output_type": "display_data"
    },
    {
     "name": "stdout",
     "output_type": "stream",
     "text": [
      "Test:\n",
      "\tAvg loss: 36711.51553621398\n",
      "\tAvg R value: 0.7418292591487117\n",
      "\n",
      "[[Fix decoder weights]]\n"
     ]
    },
    {
     "data": {
      "application/vnd.jupyter.widget-view+json": {
       "model_id": "fe7a4f7e6fac45e98e1b62d99062d86a",
       "version_major": 2,
       "version_minor": 0
      },
      "text/plain": [
       "30 Epochs:   0%|          | 0/30 [00:00<?, ?it/s]"
      ]
     },
     "metadata": {},
     "output_type": "display_data"
    },
    {
     "name": "stdout",
     "output_type": "stream",
     "text": [
      "Test the network on Subject: 14\n",
      "Test the network on CONTROL Subject: 14\n",
      "Subject test: 15\n",
      "[[Pre-training autoencoder]]\n"
     ]
    },
    {
     "data": {
      "application/vnd.jupyter.widget-view+json": {
       "model_id": "ccf76228b67f4fef931186c54fa20cd1",
       "version_major": 2,
       "version_minor": 0
      },
      "text/plain": [
       "30 Epochs:   0%|          | 0/30 [00:00<?, ?it/s]"
      ]
     },
     "metadata": {},
     "output_type": "display_data"
    },
    {
     "name": "stdout",
     "output_type": "stream",
     "text": [
      "Test:\n",
      "\tAvg loss: 37464.00480194918\n",
      "\tAvg R value: 0.7448578170275696\n",
      "\n",
      "[[Fix decoder weights]]\n"
     ]
    },
    {
     "data": {
      "application/vnd.jupyter.widget-view+json": {
       "model_id": "880f692f4a4d46dfb1ecfca3b7b81898",
       "version_major": 2,
       "version_minor": 0
      },
      "text/plain": [
       "30 Epochs:   0%|          | 0/30 [00:00<?, ?it/s]"
      ]
     },
     "metadata": {},
     "output_type": "display_data"
    },
    {
     "name": "stdout",
     "output_type": "stream",
     "text": [
      "Test the network on Subject: 15\n",
      "Test the network on CONTROL Subject: 15\n",
      "Subject test: 16\n",
      "[[Pre-training autoencoder]]\n"
     ]
    },
    {
     "data": {
      "application/vnd.jupyter.widget-view+json": {
       "model_id": "eaf03d1d71854d999cf58d946f14f343",
       "version_major": 2,
       "version_minor": 0
      },
      "text/plain": [
       "30 Epochs:   0%|          | 0/30 [00:00<?, ?it/s]"
      ]
     },
     "metadata": {},
     "output_type": "display_data"
    },
    {
     "name": "stdout",
     "output_type": "stream",
     "text": [
      "Test:\n",
      "\tAvg loss: 38626.74638231049\n",
      "\tAvg R value: 0.7313570186679372\n",
      "\n",
      "[[Fix decoder weights]]\n"
     ]
    },
    {
     "data": {
      "application/vnd.jupyter.widget-view+json": {
       "model_id": "807a13d17740452f9043003ffbc20f01",
       "version_major": 2,
       "version_minor": 0
      },
      "text/plain": [
       "30 Epochs:   0%|          | 0/30 [00:00<?, ?it/s]"
      ]
     },
     "metadata": {},
     "output_type": "display_data"
    },
    {
     "name": "stdout",
     "output_type": "stream",
     "text": [
      "Test the network on Subject: 16\n",
      "Test the network on CONTROL Subject: 16\n",
      "Subject test: 17\n",
      "[[Pre-training autoencoder]]\n"
     ]
    },
    {
     "data": {
      "application/vnd.jupyter.widget-view+json": {
       "model_id": "1449ad1e623a4c8cb2fb76695a7ff3b9",
       "version_major": 2,
       "version_minor": 0
      },
      "text/plain": [
       "30 Epochs:   0%|          | 0/30 [00:00<?, ?it/s]"
      ]
     },
     "metadata": {},
     "output_type": "display_data"
    },
    {
     "name": "stdout",
     "output_type": "stream",
     "text": [
      "Test:\n",
      "\tAvg loss: 38842.384493369835\n",
      "\tAvg R value: 0.7341382017849211\n",
      "\n",
      "[[Fix decoder weights]]\n"
     ]
    },
    {
     "data": {
      "application/vnd.jupyter.widget-view+json": {
       "model_id": "29faccc813504684b80f6452d3ed8d6f",
       "version_major": 2,
       "version_minor": 0
      },
      "text/plain": [
       "30 Epochs:   0%|          | 0/30 [00:00<?, ?it/s]"
      ]
     },
     "metadata": {},
     "output_type": "display_data"
    },
    {
     "name": "stdout",
     "output_type": "stream",
     "text": [
      "Test the network on Subject: 17\n",
      "Test the network on CONTROL Subject: 17\n",
      "Subject test: 18\n",
      "[[Pre-training autoencoder]]\n"
     ]
    },
    {
     "data": {
      "application/vnd.jupyter.widget-view+json": {
       "model_id": "da5484f6e8ee460ca769e24163a546bc",
       "version_major": 2,
       "version_minor": 0
      },
      "text/plain": [
       "30 Epochs:   0%|          | 0/30 [00:00<?, ?it/s]"
      ]
     },
     "metadata": {},
     "output_type": "display_data"
    },
    {
     "name": "stdout",
     "output_type": "stream",
     "text": [
      "Test:\n",
      "\tAvg loss: 41860.83178365455\n",
      "\tAvg R value: 0.7168612658229212\n",
      "\n",
      "[[Fix decoder weights]]\n"
     ]
    },
    {
     "data": {
      "application/vnd.jupyter.widget-view+json": {
       "model_id": "229a5a40b7d749238e2345067c05a92f",
       "version_major": 2,
       "version_minor": 0
      },
      "text/plain": [
       "30 Epochs:   0%|          | 0/30 [00:00<?, ?it/s]"
      ]
     },
     "metadata": {},
     "output_type": "display_data"
    },
    {
     "name": "stdout",
     "output_type": "stream",
     "text": [
      "Test the network on Subject: 18\n",
      "Test the network on CONTROL Subject: 18\n",
      "Subject test: 19\n",
      "[[Pre-training autoencoder]]\n"
     ]
    },
    {
     "data": {
      "application/vnd.jupyter.widget-view+json": {
       "model_id": "b687706f5fbc4464998d092b38ec4e5b",
       "version_major": 2,
       "version_minor": 0
      },
      "text/plain": [
       "30 Epochs:   0%|          | 0/30 [00:00<?, ?it/s]"
      ]
     },
     "metadata": {},
     "output_type": "display_data"
    },
    {
     "name": "stdout",
     "output_type": "stream",
     "text": [
      "Test:\n",
      "\tAvg loss: 30433.492728562207\n",
      "\tAvg R value: 0.7915512054531088\n",
      "\n",
      "[[Fix decoder weights]]\n"
     ]
    },
    {
     "data": {
      "application/vnd.jupyter.widget-view+json": {
       "model_id": "ddb9dcbae95c477d810eb426bc4e5f3b",
       "version_major": 2,
       "version_minor": 0
      },
      "text/plain": [
       "30 Epochs:   0%|          | 0/30 [00:00<?, ?it/s]"
      ]
     },
     "metadata": {},
     "output_type": "display_data"
    },
    {
     "name": "stdout",
     "output_type": "stream",
     "text": [
      "Test the network on Subject: 19\n",
      "Test the network on CONTROL Subject: 19\n",
      "Subject test: 20\n",
      "[[Pre-training autoencoder]]\n"
     ]
    },
    {
     "data": {
      "application/vnd.jupyter.widget-view+json": {
       "model_id": "a38e84154daf482f84178f4b055cceb4",
       "version_major": 2,
       "version_minor": 0
      },
      "text/plain": [
       "30 Epochs:   0%|          | 0/30 [00:00<?, ?it/s]"
      ]
     },
     "metadata": {},
     "output_type": "display_data"
    },
    {
     "name": "stdout",
     "output_type": "stream",
     "text": [
      "Test:\n",
      "\tAvg loss: 39508.839087560336\n",
      "\tAvg R value: 0.7149668910772139\n",
      "\n",
      "[[Fix decoder weights]]\n"
     ]
    },
    {
     "data": {
      "application/vnd.jupyter.widget-view+json": {
       "model_id": "f35a1b3c1d9a459f93de31eb79e334e6",
       "version_major": 2,
       "version_minor": 0
      },
      "text/plain": [
       "30 Epochs:   0%|          | 0/30 [00:00<?, ?it/s]"
      ]
     },
     "metadata": {},
     "output_type": "display_data"
    },
    {
     "name": "stdout",
     "output_type": "stream",
     "text": [
      "Test the network on Subject: 20\n",
      "Test the network on CONTROL Subject: 20\n",
      "Subject test: 21\n",
      "[[Pre-training autoencoder]]\n"
     ]
    },
    {
     "data": {
      "application/vnd.jupyter.widget-view+json": {
       "model_id": "a73ebdc720bf4fcfbb54189bd518bc6d",
       "version_major": 2,
       "version_minor": 0
      },
      "text/plain": [
       "30 Epochs:   0%|          | 0/30 [00:00<?, ?it/s]"
      ]
     },
     "metadata": {},
     "output_type": "display_data"
    },
    {
     "name": "stdout",
     "output_type": "stream",
     "text": [
      "Test:\n",
      "\tAvg loss: 38378.22669426092\n",
      "\tAvg R value: 0.6984713841155653\n",
      "\n",
      "[[Fix decoder weights]]\n"
     ]
    },
    {
     "data": {
      "application/vnd.jupyter.widget-view+json": {
       "model_id": "0d416bd41d644c84b07fd6192bd9eeba",
       "version_major": 2,
       "version_minor": 0
      },
      "text/plain": [
       "30 Epochs:   0%|          | 0/30 [00:00<?, ?it/s]"
      ]
     },
     "metadata": {},
     "output_type": "display_data"
    },
    {
     "name": "stdout",
     "output_type": "stream",
     "text": [
      "Test the network on Subject: 21\n",
      "Test the network on CONTROL Subject: 21\n",
      "Finished All Experiments\n"
     ]
    }
   ],
   "source": [
    "%run Model.py\n",
    "r_model = []\n",
    "r_null = []\n",
    "import warnings\n",
    "warnings.filterwarnings('ignore')\n",
    "for test_sbj_idx in range(0,21):\n",
    "    print(f'Subject test: {test_sbj_idx+1}')\n",
    "    model = Lis2Img().to(device) # reset the weights for each experiments\n",
    "    model.to(dtype=torch.double)\n",
    "    loss_fn = nn.MSELoss()\n",
    "    optimizer = torch.optim.Adam(model.parameters(), lr=1e-3)\n",
    "\n",
    "    \n",
    "    train_sbjs_idx = list(range(21))\n",
    "    train_sbjs_idx.remove(test_sbj_idx)\n",
    "    \n",
    "    train_sbjs = data[train_sbjs_idx,:,:,:1394]#:1802]\n",
    "    test_sbj = data[test_sbj_idx,:,:,:1394]#:1802]\n",
    "    \n",
    "    # (1) make data to pre-train the model as and AE for 20 subjects (all data from 20 sbjs)\n",
    "    # (2) fix the encoder train the decoder part for lis_to_img (devide into train and test)\n",
    "    # (3) test the network for the left-out sbj (all data from left_out sbjs)\n",
    "    \n",
    "    data_tr = train_sbjs.reshape(20*88,64,1394)                     #(1)\n",
    "    data_lis = train_sbjs[:,:44,:,:].reshape(20*44,64,1394)         #(2a)\n",
    "    data_img = train_sbjs[:,-44:,:,:].reshape(20*44,64,1394)        #(2b)\n",
    "    tst_sbj_lis = test_sbj[:44,:,:]                                 #(3a)\n",
    "    tst_sbj_img = test_sbj[-44:,:,:]                                #(3b)\n",
    "    \n",
    "    [all_train, all_test] = random_split(data_tr, [1700, 60],        #(1)\n",
    "                                         generator=torch.Generator().manual_seed(42)) \n",
    "    \n",
    "    [lis_train, lis_test] = random_split(data_lis, [800, 80],       #(2)\n",
    "                                 generator=torch.Generator().manual_seed(42))\n",
    "    [img_train, img_test] = random_split(data_img, [800, 80],        #(2))\n",
    "                                 generator=torch.Generator().manual_seed(42))\n",
    "    \n",
    "    \n",
    "    # Create dataloaders\n",
    "    batch_size = 4\n",
    "    all_train_dataloader = DataLoader(all_train, batch_size=batch_size)\n",
    "    all_test_dataloader = DataLoader(all_test, batch_size=batch_size)\n",
    "    \n",
    "    lis_train_dataloader = DataLoader(lis_train, batch_size=batch_size)\n",
    "    lis_test_dataloader = DataLoader(lis_test, batch_size=batch_size)\n",
    "    img_train_dataloader = DataLoader(img_train, batch_size=batch_size)\n",
    "    img_test_dataloader = DataLoader(img_test, batch_size=batch_size)\n",
    "    \n",
    "    \n",
    "\n",
    "    epochs = 30\n",
    "    print(\"[[Pre-training autoencoder]]\")\n",
    "    for t in tqdm_notebook(range(epochs), leave=True, desc = f'{epochs} Epochs'):\n",
    "        if t == epochs-1:\n",
    "            print_result = True\n",
    "        else:\n",
    "            print_result = False\n",
    "        # print(f\"Epoch {t+1}\\n-------------------------------\")\n",
    "        train(all_train_dataloader, all_train_dataloader, model, loss_fn, optimizer)\n",
    "        test(all_test_dataloader, all_test_dataloader, model, loss_fn, print_result)\n",
    "        \n",
    "    \n",
    "    print(\"[[Fix decoder weights]]\")\n",
    "    model.encoder.requires_grad_(False)  \n",
    "    epochs = 30\n",
    "    for t in tqdm_notebook(range(epochs), leave=True, desc = f'{epochs} Epochs'):\n",
    "        train(lis_train_dataloader, img_train_dataloader, model, loss_fn, optimizer)\n",
    "        test(lis_test_dataloader, img_test_dataloader, model, loss_fn)\n",
    "    \n",
    "    \n",
    "    ###### lis2img for the unseen subject\n",
    "    [test_sbj_lis, _] = random_split(tst_sbj_lis, [44, 0], generator=torch.Generator().manual_seed(42))\n",
    "    [test_sbj_img, _] = random_split(tst_sbj_img, [44, 0], generator=torch.Generator().manual_seed(42))\n",
    "    test_lis = DataLoader(test_sbj_lis, batch_size=batch_size)\n",
    "    test_img = DataLoader(test_sbj_img, batch_size=batch_size)\n",
    "    print(f'Test the network on Subject: {test_sbj_idx + 1}')\n",
    "    test(test_lis, test_img, model, loss_fn, print_result = False)    \n",
    "    \n",
    "    X = torch.tensor(test_sbj_lis)\n",
    "    Y = torch.tensor(test_sbj_img)\n",
    "    Pred = model(X).detach()\n",
    "    tmp = R_value(Y,Pred)\n",
    "    r_model.append(np.asarray(tmp))\n",
    "    save.pickle(np.asarray(Pred), f'Pred_img/sbj{test_sbj_idx}_Pred.pkl')\n",
    "    \n",
    "    ###### lis2img for Null model\n",
    "    [test_sbj_lis, _] = random_split(tst_sbj_lis, [44, 0], generator=torch.Generator().manual_seed(4))\n",
    "    [test_sbj_img, _] = random_split(tst_sbj_img, [44, 0], generator=torch.Generator().manual_seed(42))\n",
    "    test_lis = DataLoader(test_sbj_lis, batch_size=batch_size)\n",
    "    test_img = DataLoader(test_sbj_img, batch_size=batch_size)\n",
    "    print(f'Test the network on CONTROL Subject: {test_sbj_idx + 1}')\n",
    "    test(test_lis, test_img, model, loss_fn, print_result = False)\n",
    "        \n",
    "    X = torch.tensor(test_sbj_lis)\n",
    "    Y = torch.tensor(test_sbj_img)\n",
    "    Pred = model(X).detach()\n",
    "    tmp = R_value(Y,Pred)\n",
    "    r_null.append(np.asarray(tmp))\n",
    "r_model, r_null = np.mean(np.array(r_model),2), np.mean(np.array(r_null),2)\n",
    "print('Finished All Experiments')"
   ]
  },
  {
   "cell_type": "code",
   "execution_count": 20,
   "id": "c184b3e9-0012-4948-8b73-d7ad972f5d10",
   "metadata": {},
   "outputs": [
    {
     "data": {
      "text/plain": [
       "<matplotlib.legend.Legend at 0x7fb9ec4c7580>"
      ]
     },
     "execution_count": 20,
     "metadata": {},
     "output_type": "execute_result"
    },
    {
     "data": {
      "image/png": "[encoded data removed]",
      "text/plain": [
       "<Figure size 432x288 with 1 Axes>"
      ]
     },
     "metadata": {
      "needs_background": "light"
     },
     "output_type": "display_data"
    }
   ],
   "source": [
    "##PLot the Performance of the DNN model against the Null fore each subjects\n",
    "\n",
    "idx = np.argsort(r_model.mean(1))\n",
    "idx = idx[::-1]\n",
    "fig, ax = plt.subplots(1)\n",
    "im = ax.scatter(np.arange(1,22,1),r_model[idx,:].mean(axis = 1))\n",
    "ax.errorbar(np.arange(1,22,1),r_model[idx,:].mean(axis = 1),\n",
    "             yerr=r_model[idx,:].std(axis = 1)/np.sqrt(21),  label = 'Model')\n",
    "ax.scatter(np.arange(1,22,1),r_null[idx,:].mean(axis = 1))\n",
    "ax.errorbar(np.arange(1,22,1),r_null[idx,:].mean(axis = 1),\n",
    "             yerr=r_null[idx,:].std(axis = 1)/np.sqrt(21), label = 'Null')\n",
    "ax.xaxis.set_ticks(np.arange(1, 22, step=1))\n",
    "ax.set_xlabel('Subject #')\n",
    "ax.set_ylabel('r_value')\n",
    "ax.set_title('Correlation betweem predicted Imagary signal, and True Imagary')\n",
    "ax.legend()"
   ]
  }
 ],
 "metadata": {
  "kernelspec": {
   "display_name": "Python 3 (ipykernel)",
   "language": "python",
   "name": "python3"
  },
  "language_info": {
   "codemirror_mode": {
    "name": "ipython",
    "version": 3
   },
   "file_extension": ".py",
   "mimetype": "text/x-python",
   "name": "python",
   "nbconvert_exporter": "python",
   "pygments_lexer": "ipython3",
   "version": "3.8.12"
  }
 },
 "nbformat": 4,
 "nbformat_minor": 5
}
